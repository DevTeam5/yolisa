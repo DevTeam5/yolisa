{
 "cells": [
  {
   "cell_type": "code",
   "execution_count": 1,
   "metadata": {},
   "outputs": [
    {
     "name": "stdout",
     "output_type": "stream",
     "text": [
      "<mysql.connector.connection_cext.CMySQLConnection object at 0x00000144BDBA1808>\n"
     ]
    }
   ],
   "source": [
    "import mysql.connector\n",
    "\n",
    "mydb = mysql.connector.connect(\n",
    "\n",
    "  host=\"localhost\",\n",
    "\n",
    "  user=\"root\",\n",
    "\n",
    "  passwd=\"M@tyotyo\"\n",
    "\n",
    ")\n",
    "\n",
    "print(mydb)"
   ]
  },
  {
   "cell_type": "code",
   "execution_count": 19,
   "metadata": {},
   "outputs": [],
   "source": [
    "mydb = mysql.connector.connect(\n",
    "\n",
    "  host=\"localhost\",\n",
    "\n",
    "  user=\"root\",\n",
    "\n",
    "  passwd=\"M@tyotyo\"\n",
    "\n",
    ")\n",
    "\n",
    "mycursor = mydb.cursor()\n",
    "\n",
    "mycursor.execute(\"CREATE DATABASE chips\") #creating database"
   ]
  },
  {
   "cell_type": "code",
   "execution_count": 20,
   "metadata": {},
   "outputs": [
    {
     "name": "stdout",
     "output_type": "stream",
     "text": [
      "('chips',)\n",
      "('information_schema',)\n",
      "('mysql',)\n",
      "('performance_schema',)\n",
      "('sakila',)\n",
      "('sprint3data',)\n",
      "('sys',)\n",
      "('world',)\n"
     ]
    }
   ],
   "source": [
    "mydb = mysql.connector.connect(\n",
    "\n",
    "  host=\"localhost\",\n",
    "\n",
    "  user=\"root\",\n",
    "\n",
    "  passwd=\"M@tyotyo\"\n",
    "\n",
    ")\n",
    "\n",
    "mycursor = mydb.cursor()\n",
    "\n",
    "mycursor.execute(\"SHOW DATABASES\")\n",
    "\n",
    "for x in mycursor:\n",
    "\n",
    " print(x)    #Showing the database"
   ]
  },
  {
   "cell_type": "code",
   "execution_count": 28,
   "metadata": {},
   "outputs": [],
   "source": [
    "mycursor = mydb.cursor()\n",
    "mycursor.execute(\"CREATE TABLE Lays (productcode VARCHAR(255), allergies VARCHAR(255), dietary VARCHAR(255))\")"
   ]
  },
  {
   "cell_type": "code",
   "execution_count": 31,
   "metadata": {},
   "outputs": [],
   "source": [
    "import mysql.connector \n",
    "\n",
    "mydb = mysql.connector.connect(\n",
    "\n",
    "  host=\"localhost\",\n",
    "\n",
    "  user=\"root\",\n",
    "\n",
    "  passwd=\"M@tyotyo\",\n",
    "\n",
    "  database=\"chips\"\n",
    "\n",
    ")\n",
    "\n",
    "mycursor = mydb.cursor()"
   ]
  },
  {
   "cell_type": "code",
   "execution_count": 33,
   "metadata": {},
   "outputs": [],
   "source": [
    "import mysql.connector \n",
    "\n",
    "mydb = mysql.connector.connect(\n",
    "\n",
    "  host=\"localhost\",\n",
    "\n",
    "  user=\"root\",\n",
    "\n",
    "  passwd=\"M@tyotyo\",\n",
    "\n",
    "  database=\"chips\"\n",
    "\n",
    ")\n",
    "\n",
    "mycursor = mydb.cursor()\n",
    "\n",
    "mycursor.execute(\"ALTER TABLE lays ADD COLUMN id INT AUTO_INCREMENT PRIMARY KEY\")"
   ]
  }
 ],
 "metadata": {
  "kernelspec": {
   "display_name": "Python 3",
   "language": "python",
   "name": "python3"
  },
  "language_info": {
   "codemirror_mode": {
    "name": "ipython",
    "version": 3
   },
   "file_extension": ".py",
   "mimetype": "text/x-python",
   "name": "python",
   "nbconvert_exporter": "python",
   "pygments_lexer": "ipython3",
   "version": "3.7.4"
  }
 },
 "nbformat": 4,
 "nbformat_minor": 2
}
